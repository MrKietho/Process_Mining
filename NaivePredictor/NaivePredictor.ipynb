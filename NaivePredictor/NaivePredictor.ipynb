{
 "metadata": {
  "language_info": {
   "codemirror_mode": {
    "name": "ipython",
    "version": 3
   },
   "file_extension": ".py",
   "mimetype": "text/x-python",
   "name": "python",
   "nbconvert_exporter": "python",
   "pygments_lexer": "ipython3",
   "version": "3.6.1-final"
  },
  "orig_nbformat": 2,
  "kernelspec": {
   "name": "python3",
   "display_name": "Python 3",
   "language": "python"
  }
 },
 "nbformat": 4,
 "nbformat_minor": 2,
 "cells": [
  {
   "cell_type": "code",
   "execution_count": 1,
   "metadata": {},
   "outputs": [],
   "source": [
    "import pandas as pd\n",
    "import numpy as np\n",
    "import matplotlib.pyplot as plt\n",
    "import datetime, time"
   ]
  },
  {
   "cell_type": "code",
   "execution_count": 6,
   "metadata": {},
   "outputs": [
    {
     "output_type": "stream",
     "name": "stderr",
     "text": [
      "C:\\Users\\20181785\\AppData\\Roaming\\Python\\Python36\\site-packages\\ipykernel_launcher.py:15: SettingWithCopyWarning: \nA value is trying to be set on a copy of a slice from a DataFrame\n\nSee the caveats in the documentation: http://pandas.pydata.org/pandas-docs/stable/indexing.html#indexing-view-versus-copy\n  from ipykernel import kernelapp as app\nC:\\Users\\20181785\\AppData\\Roaming\\Python\\Python36\\site-packages\\ipykernel_launcher.py:16: SettingWithCopyWarning: \nA value is trying to be set on a copy of a slice from a DataFrame\n\nSee the caveats in the documentation: http://pandas.pydata.org/pandas-docs/stable/indexing.html#indexing-view-versus-copy\n  app.launch_new_instance()\n"
     ]
    }
   ],
   "source": [
    "# Load the dataset from csv and store interesting columns, store timestamps in right format\n",
    "train_data = pd.read_csv(\"Data/BPI_Challenge_2012.csv\", usecols=['eventID ', 'case concept:name', 'event concept:name', 'event time:timestamp']).head(100000)\n",
    "train_data['event time:timestamp'] = pd.to_datetime(train_data['event time:timestamp'], dayfirst=True)\n",
    "train_data['case concept:name'] = train_data['case concept:name'].str.replace(\"Application_\", \"\").astype('int32')\n",
    "\n",
    "data = train_data.sort_values('event time:timestamp')\n",
    "\n",
    "# Split data on time\n",
    "train_data = data[:int(0.65*len(data))]\n",
    "test_data = data[-int(0.35*len(data)):]\n",
    "\n",
    "# Remove all cases from the training data that are in the test data\n",
    "cond = train_data['case concept:name'].isin(test_data['case concept:name'])\n",
    "cond2 = test_data['case concept:name'].isin(train_data['case concept:name'])\n",
    "train_data.drop(train_data[cond].index, inplace=True)\n",
    "test_data.drop(test_data[cond2].index, inplace=True)\n",
    "\n",
    "# Sort both datasets on case. In the end we a ~75/25 split\n",
    "train_data = train_data.sort_values('case concept:name', kind='mergesort')\n",
    "test_data = test_data.sort_values('case concept:name', kind='mergesort')\n"
   ]
  },
  {
   "cell_type": "code",
   "execution_count": 7,
   "metadata": {},
   "outputs": [],
   "source": [
    "class NaivePredictor:\n",
    "\n",
    "    def __init__(self):\n",
    "        self.transition_modes = {}  # Stores most frequent transition based on last made transition\n",
    "        self.transition_time_averages = {}  # Stores average time between each made transition\n",
    "        self.prediction = {}    # Made predictions\n",
    "\n",
    "    def fit(self, x):\n",
    "        df = x[['eventID ', 'case concept:name', 'event concept:name', 'event time:timestamp']]\n",
    "\n",
    "        # Calculate the time difference between each two rows in the same case\n",
    "        df['timeDelta'] = df['event time:timestamp'].diff().dt.total_seconds()\n",
    "        df.loc[df['case concept:name'] != df['case concept:name'].shift(1), 'timeDelta'] = np.nan\n",
    "        \n",
    "        # Store the transitions in seperate columns\n",
    "        df['transitionToMake'] = df['event concept:name'] + '#' + df['event concept:name'].shift(-1)\n",
    "        df['transitionMade'] = df['event concept:name'].shift(1) + '#' + df['event concept:name']\n",
    "\n",
    "        self.df = df    # for debugging purposes\n",
    "\n",
    "        # Calculate the mean of the time spent during each made transition and store them\n",
    "        self.transition_time_averages = df.groupby('transitionMade')['timeDelta'].mean().fillna(0).to_dict()\n",
    "\n",
    "        # Count how often a transition is made\n",
    "        transition_counts = df.groupby(['event concept:name', 'transitionToMake'], sort=False)['eventID '].count()   \n",
    "\n",
    "        # Calculate the most often made transition pairs and store them \n",
    "        self.transition_modes = transition_counts.loc[transition_counts.groupby('event concept:name').idxmax()].reset_index()['transitionToMake'].str.split('#', 1, expand=True).set_index(0)[1].to_dict()\n",
    "\n",
    "    def predict(self, x):\n",
    "        prediction = x[['eventID ', 'case concept:name', 'event concept:name', 'event time:timestamp']]\n",
    "\n",
    "        # For all events, predict the next event within the case\n",
    "        prediction['event'] = np.where(prediction['case concept:name'] == prediction['case concept:name'].shift(1), prediction['event concept:name'].shift(1).apply(lambda e: self.transition_modes[e] if not pd.isnull(e) and e in self.transition_modes  else np.nan), np.nan) \n",
    "\n",
    "        # Timestamp and event name of previous event is needed for the prediction in the next line\n",
    "        prediction['timestamp'] = prediction['event time:timestamp'].shift(1)\n",
    "        prediction['event concept:name'] = prediction['event concept:name'].shift(1)\n",
    "\n",
    "        # For all events, predict the next event timestamp by adding the time average of the predicted next event to the previous timestamp, within the case\n",
    "        prediction['timestamp'] = np.where(prediction['case concept:name'] == prediction['case concept:name'].shift(1), prediction.apply(lambda e: (e.timestamp + pd.Timedelta(seconds=self.transition_time_averages[e['event concept:name'] + '#' + e.event])) if(not pd.isnull(e.timestamp) and not pd.isnull(e.event) and e['event concept:name'] + '#' + e.event in self.transition_time_averages) else np.datetime64('NaT'), axis=1), np.datetime64('NaT'))\n",
    "\n",
    "        prediction['event concept:name'] = prediction['event concept:name'].shift(-1)   # Restore event column\n",
    "\n",
    "        self.prediction = prediction\n"
   ]
  },
  {
   "cell_type": "code",
   "execution_count": 8,
   "metadata": {},
   "outputs": [],
   "source": [
    "def transition_accuracy(y, y_hat):\n",
    "    n = y.shape[0]\n",
    "    error = y_hat['event'] == y['event concept:name']\n",
    "    return error.sum() / n\n",
    "\n",
    "def time_delta_mse(y, y_hat):\n",
    "    timedelta = abs((y_hat['timestamp'] - y['event time:timestamp']).dt.total_seconds())\n",
    "    return timedelta.mean()\n"
   ]
  },
  {
   "cell_type": "code",
   "execution_count": 12,
   "metadata": {
    "tags": []
   },
   "outputs": [
    {
     "output_type": "stream",
     "name": "stdout",
     "text": [
      "\n",
      "Training dataset size: (291962, 4)\n",
      "Test dataset size: (150166, 6)\n",
      "\n",
      "Most common transitions (first 10): [('A_Create Application', 'A_Submitted'), ('A_Submitted', 'W_Handle leads'), ('W_Handle leads', 'W_Handle leads'), ('W_Complete application', 'W_Complete application'), ('A_Concept', 'W_Complete application'), ('A_Accepted', 'O_Create Offer'), ('O_Create Offer', 'O_Created'), ('O_Created', 'O_Sent (mail and online)'), ('O_Sent (mail and online)', 'W_Complete application'), ('W_Call after offers', 'W_Call after offers')]\n",
      "\n",
      "Average transition times (seconds) (first 10): [('A_Accepted#O_Create Offer', 505.54787655355437), ('A_Accepted#W_Complete application', 15631.848666666679), ('A_Cancelled#O_Cancelled', 0.058121951219512517), ('A_Cancelled#W_Call after offers', 0.073193548387096782), ('A_Cancelled#W_Call incomplete files', 0.097428571428571448), ('A_Cancelled#W_Complete application', 0.0315), ('A_Cancelled#W_Validate application', 0.10700000000000001), ('A_Complete#A_Cancelled', 890.78305882352959), ('A_Complete#A_Denied', 556.0385), ('A_Complete#O_Cancelled', 201.61225757575764)]\n",
      "C:\\Users\\20181785\\AppData\\Roaming\\Python\\Python36\\site-packages\\ipykernel_launcher.py:34: SettingWithCopyWarning: \n",
      "A value is trying to be set on a copy of a slice from a DataFrame.\n",
      "Try using .loc[row_indexer,col_indexer] = value instead\n",
      "\n",
      "See the caveats in the documentation: http://pandas.pydata.org/pandas-docs/stable/indexing.html#indexing-view-versus-copy\n",
      "\n",
      "Transition accuracy: 67.19%\n",
      "\n",
      "Timestamp RMSE: 0 days 14:55:06.487166\n",
      "\n",
      "Time spent on fitting: 0.8256258964538574 seconds\n",
      "\n",
      "Time spent on predicting 43.75029253959656 seconds\n",
      "\n",
      "Writing predictions to a csv file...\n",
      "\n",
      "Done.\n"
     ]
    }
   ],
   "source": [
    "time_old = time.time()\n",
    "\n",
    "predictor = NaivePredictor()\n",
    "\n",
    "predictor.fit(train_data)\n",
    "\n",
    "time_fit = time.time() - time_old\n",
    "\n",
    "# df = predictor.df\n",
    "\n",
    "print('\\nTraining dataset size: {}'.format(train_data.shape))\n",
    "print('Test dataset size: {}'.format(test_data.shape))\n",
    "\n",
    "print('\\nMost common transitions (first 10): {}'.format(list(predictor.transition_modes.items())[:10] ) )\n",
    "\n",
    "print('\\nAverage transition times (seconds) (first 10): {}'.format(list(predictor.transition_time_averages.items())[:10]))\n",
    "\n",
    "predictor.predict(test_data)\n",
    "\n",
    "prediction = predictor.prediction\n",
    "\n",
    "print('\\nTransition accuracy: {:.2f}%'.format(transition_accuracy(test_data, predictor.prediction) * 100))\n",
    "print('\\nTimestamp MAE: {}'.format(pd.to_timedelta(time_delta_mse(test_data, predictor.prediction), unit='s')))\n",
    "print('\\nTime spent on fitting: {}'.format(time_fit) + ' seconds')\n",
    "print('\\nTime spent on predicting {}'.format(time.time()-time_old) + ' seconds')\n",
    "\n",
    "print('\\nWriting predictions to a csv file...')\n",
    "test_data['event prediction'] = predictor.prediction['event']\n",
    "test_data['timestamp prediction'] = predictor.prediction['timestamp']\n",
    "test_data.to_csv('first_predictor_output.csv')\n",
    "print('\\nDone.')"
   ]
  },
  {
   "cell_type": "code",
   "execution_count": null,
   "metadata": {},
   "outputs": [],
   "source": []
  }
 ]
}